{
 "cells": [
  {
   "cell_type": "code",
   "execution_count": 1,
   "id": "526a5096",
   "metadata": {
    "_cell_guid": "b1076dfc-b9ad-4769-8c92-a6c4dae69d19",
    "_uuid": "8f2839f25d086af736a60e9eeb907d3b93b6e0e5",
    "execution": {
     "iopub.execute_input": "2024-01-19T17:08:13.846231Z",
     "iopub.status.busy": "2024-01-19T17:08:13.844955Z",
     "iopub.status.idle": "2024-01-19T17:08:14.331261Z",
     "shell.execute_reply": "2024-01-19T17:08:14.329188Z"
    },
    "papermill": {
     "duration": 0.498895,
     "end_time": "2024-01-19T17:08:14.334378",
     "exception": false,
     "start_time": "2024-01-19T17:08:13.835483",
     "status": "completed"
    },
    "tags": []
   },
   "outputs": [
    {
     "name": "stdout",
     "output_type": "stream",
     "text": [
      "/kaggle/input/netflix-original-films-imdb-scores/NetflixOriginals.csv\n"
     ]
    }
   ],
   "source": [
    "# This Python 3 environment comes with many helpful analytics libraries installed\n",
    "# It is defined by the kaggle/python Docker image: https://github.com/kaggle/docker-python\n",
    "# For example, here's several helpful packages to load\n",
    "\n",
    "import numpy as np # linear algebra\n",
    "import pandas as pd # data processing, CSV file I/O (e.g. pd.read_csv)\n",
    "\n",
    "# Input data files are available in the read-only \"../input/\" directory\n",
    "# For example, running this (by clicking run or pressing Shift+Enter) will list all files under the input directory\n",
    "\n",
    "import os\n",
    "for dirname, _, filenames in os.walk('/kaggle/input'):\n",
    "    for filename in filenames:\n",
    "        print(os.path.join(dirname, filename))\n",
    "\n",
    "# You can write up to 20GB to the current directory (/kaggle/working/) that gets preserved as output when you create a version using \"Save & Run All\" \n",
    "# You can also write temporary files to /kaggle/temp/, but they won't be saved outside of the current session"
   ]
  },
  {
   "cell_type": "code",
   "execution_count": 2,
   "id": "e6b9313c",
   "metadata": {
    "execution": {
     "iopub.execute_input": "2024-01-19T17:08:14.350748Z",
     "iopub.status.busy": "2024-01-19T17:08:14.350094Z",
     "iopub.status.idle": "2024-01-19T17:08:14.375947Z",
     "shell.execute_reply": "2024-01-19T17:08:14.374381Z"
    },
    "papermill": {
     "duration": 0.037021,
     "end_time": "2024-01-19T17:08:14.378885",
     "exception": false,
     "start_time": "2024-01-19T17:08:14.341864",
     "status": "completed"
    },
    "tags": []
   },
   "outputs": [],
   "source": [
    "df = pd.read_csv('/kaggle/input/netflix-original-films-imdb-scores/NetflixOriginals.csv',encoding='unicode_escape')"
   ]
  },
  {
   "cell_type": "code",
   "execution_count": 3,
   "id": "21ca62b3",
   "metadata": {
    "execution": {
     "iopub.execute_input": "2024-01-19T17:08:14.394746Z",
     "iopub.status.busy": "2024-01-19T17:08:14.394326Z",
     "iopub.status.idle": "2024-01-19T17:08:14.424826Z",
     "shell.execute_reply": "2024-01-19T17:08:14.423281Z"
    },
    "papermill": {
     "duration": 0.042429,
     "end_time": "2024-01-19T17:08:14.427814",
     "exception": false,
     "start_time": "2024-01-19T17:08:14.385385",
     "status": "completed"
    },
    "tags": []
   },
   "outputs": [
    {
     "data": {
      "text/plain": [
       "Language\n",
       "English       68.664384\n",
       "Hindi          5.650685\n",
       "Spanish        5.308219\n",
       "French         3.424658\n",
       "Italian        2.397260\n",
       "Portuguese     2.054795\n",
       "Indonesian     1.541096\n",
       "Japanese       1.027397\n",
       "Korean         1.027397\n",
       "German         0.856164\n",
       "Name: proportion, dtype: float64"
      ]
     },
     "execution_count": 3,
     "metadata": {},
     "output_type": "execute_result"
    }
   ],
   "source": [
    "(df['Language'].value_counts(normalize=True) * 100).head(10)"
   ]
  },
  {
   "cell_type": "code",
   "execution_count": 4,
   "id": "ef5cda88",
   "metadata": {
    "execution": {
     "iopub.execute_input": "2024-01-19T17:08:14.443369Z",
     "iopub.status.busy": "2024-01-19T17:08:14.442946Z",
     "iopub.status.idle": "2024-01-19T17:08:14.462372Z",
     "shell.execute_reply": "2024-01-19T17:08:14.460968Z"
    },
    "papermill": {
     "duration": 0.030306,
     "end_time": "2024-01-19T17:08:14.464988",
     "exception": false,
     "start_time": "2024-01-19T17:08:14.434682",
     "status": "completed"
    },
    "tags": []
   },
   "outputs": [
    {
     "data": {
      "text/plain": [
       "Language\n",
       "1    401\n",
       "0    160\n",
       "Name: count, dtype: int64"
      ]
     },
     "execution_count": 4,
     "metadata": {},
     "output_type": "execute_result"
    }
   ],
   "source": [
    "df[~ (df['Language'].str.contains(\"/\")) ]['Language'].apply(lambda x: 1 if x == 'English' else 0).value_counts()"
   ]
  },
  {
   "cell_type": "code",
   "execution_count": 5,
   "id": "fad4d8ea",
   "metadata": {
    "execution": {
     "iopub.execute_input": "2024-01-19T17:08:14.481049Z",
     "iopub.status.busy": "2024-01-19T17:08:14.480512Z",
     "iopub.status.idle": "2024-01-19T17:08:14.493921Z",
     "shell.execute_reply": "2024-01-19T17:08:14.492648Z"
    },
    "papermill": {
     "duration": 0.024378,
     "end_time": "2024-01-19T17:08:14.496317",
     "exception": false,
     "start_time": "2024-01-19T17:08:14.471939",
     "status": "completed"
    },
    "tags": []
   },
   "outputs": [
    {
     "data": {
      "text/plain": [
       "Language\n",
       "False    561\n",
       "True      23\n",
       "Name: count, dtype: int64"
      ]
     },
     "execution_count": 5,
     "metadata": {},
     "output_type": "execute_result"
    }
   ],
   "source": [
    "df['Language'].str.contains(\"/\").value_counts()"
   ]
  },
  {
   "cell_type": "code",
   "execution_count": 6,
   "id": "4b4efff0",
   "metadata": {
    "execution": {
     "iopub.execute_input": "2024-01-19T17:08:14.512109Z",
     "iopub.status.busy": "2024-01-19T17:08:14.511590Z",
     "iopub.status.idle": "2024-01-19T17:08:14.536095Z",
     "shell.execute_reply": "2024-01-19T17:08:14.534823Z"
    },
    "papermill": {
     "duration": 0.035886,
     "end_time": "2024-01-19T17:08:14.539030",
     "exception": false,
     "start_time": "2024-01-19T17:08:14.503144",
     "status": "completed"
    },
    "tags": []
   },
   "outputs": [
    {
     "data": {
      "text/html": [
       "<div>\n",
       "<style scoped>\n",
       "    .dataframe tbody tr th:only-of-type {\n",
       "        vertical-align: middle;\n",
       "    }\n",
       "\n",
       "    .dataframe tbody tr th {\n",
       "        vertical-align: top;\n",
       "    }\n",
       "\n",
       "    .dataframe thead th {\n",
       "        text-align: right;\n",
       "    }\n",
       "</style>\n",
       "<table border=\"1\" class=\"dataframe\">\n",
       "  <thead>\n",
       "    <tr style=\"text-align: right;\">\n",
       "      <th></th>\n",
       "      <th>Genre</th>\n",
       "      <th>count</th>\n",
       "    </tr>\n",
       "  </thead>\n",
       "  <tbody>\n",
       "    <tr>\n",
       "      <th>0</th>\n",
       "      <td>Action-adventure</td>\n",
       "      <td>1</td>\n",
       "    </tr>\n",
       "    <tr>\n",
       "      <th>1</th>\n",
       "      <td>Black comedy</td>\n",
       "      <td>1</td>\n",
       "    </tr>\n",
       "    <tr>\n",
       "      <th>2</th>\n",
       "      <td>Crime drama</td>\n",
       "      <td>1</td>\n",
       "    </tr>\n",
       "    <tr>\n",
       "      <th>3</th>\n",
       "      <td>Documentary</td>\n",
       "      <td>17</td>\n",
       "    </tr>\n",
       "    <tr>\n",
       "      <th>4</th>\n",
       "      <td>Drama</td>\n",
       "      <td>2</td>\n",
       "    </tr>\n",
       "    <tr>\n",
       "      <th>5</th>\n",
       "      <td>War drama</td>\n",
       "      <td>1</td>\n",
       "    </tr>\n",
       "  </tbody>\n",
       "</table>\n",
       "</div>"
      ],
      "text/plain": [
       "              Genre  count\n",
       "0  Action-adventure      1\n",
       "1      Black comedy      1\n",
       "2       Crime drama      1\n",
       "3       Documentary     17\n",
       "4             Drama      2\n",
       "5         War drama      1"
      ]
     },
     "execution_count": 6,
     "metadata": {},
     "output_type": "execute_result"
    }
   ],
   "source": [
    "df[df['Language'].str.contains(\"/\")].groupby('Genre',as_index=False)['Language'].agg({'count'})"
   ]
  },
  {
   "cell_type": "code",
   "execution_count": 7,
   "id": "cb0741c8",
   "metadata": {
    "execution": {
     "iopub.execute_input": "2024-01-19T17:08:14.557089Z",
     "iopub.status.busy": "2024-01-19T17:08:14.556615Z",
     "iopub.status.idle": "2024-01-19T17:08:14.576671Z",
     "shell.execute_reply": "2024-01-19T17:08:14.575077Z"
    },
    "papermill": {
     "duration": 0.032345,
     "end_time": "2024-01-19T17:08:14.579746",
     "exception": false,
     "start_time": "2024-01-19T17:08:14.547401",
     "status": "completed"
    },
    "tags": []
   },
   "outputs": [
    {
     "data": {
      "text/html": [
       "<div>\n",
       "<style scoped>\n",
       "    .dataframe tbody tr th:only-of-type {\n",
       "        vertical-align: middle;\n",
       "    }\n",
       "\n",
       "    .dataframe tbody tr th {\n",
       "        vertical-align: top;\n",
       "    }\n",
       "\n",
       "    .dataframe thead th {\n",
       "        text-align: right;\n",
       "    }\n",
       "</style>\n",
       "<table border=\"1\" class=\"dataframe\">\n",
       "  <thead>\n",
       "    <tr style=\"text-align: right;\">\n",
       "      <th></th>\n",
       "      <th>Title</th>\n",
       "      <th>Genre</th>\n",
       "      <th>Premiere</th>\n",
       "      <th>Runtime</th>\n",
       "      <th>IMDB Score</th>\n",
       "      <th>Language</th>\n",
       "    </tr>\n",
       "  </thead>\n",
       "  <tbody>\n",
       "    <tr>\n",
       "      <th>0</th>\n",
       "      <td>Enter the Anime</td>\n",
       "      <td>Documentary</td>\n",
       "      <td>August 5, 2019</td>\n",
       "      <td>58</td>\n",
       "      <td>2.5</td>\n",
       "      <td>English/Japanese</td>\n",
       "    </tr>\n",
       "    <tr>\n",
       "      <th>583</th>\n",
       "      <td>David Attenborough: A Life on Our Planet</td>\n",
       "      <td>Documentary</td>\n",
       "      <td>October 4, 2020</td>\n",
       "      <td>83</td>\n",
       "      <td>9.0</td>\n",
       "      <td>English</td>\n",
       "    </tr>\n",
       "  </tbody>\n",
       "</table>\n",
       "</div>"
      ],
      "text/plain": [
       "                                        Title        Genre         Premiere  \\\n",
       "0                             Enter the Anime  Documentary   August 5, 2019   \n",
       "583  David Attenborough: A Life on Our Planet  Documentary  October 4, 2020   \n",
       "\n",
       "     Runtime  IMDB Score          Language  \n",
       "0         58         2.5  English/Japanese  \n",
       "583       83         9.0           English  "
      ]
     },
     "execution_count": 7,
     "metadata": {},
     "output_type": "execute_result"
    }
   ],
   "source": [
    "df[df['IMDB Score'].isin([df['IMDB Score'].min(),df['IMDB Score'].max()])]"
   ]
  },
  {
   "cell_type": "code",
   "execution_count": 8,
   "id": "d26d7e09",
   "metadata": {
    "execution": {
     "iopub.execute_input": "2024-01-19T17:08:14.597911Z",
     "iopub.status.busy": "2024-01-19T17:08:14.597403Z",
     "iopub.status.idle": "2024-01-19T17:08:14.611858Z",
     "shell.execute_reply": "2024-01-19T17:08:14.610528Z"
    },
    "papermill": {
     "duration": 0.027207,
     "end_time": "2024-01-19T17:08:14.614771",
     "exception": false,
     "start_time": "2024-01-19T17:08:14.587564",
     "status": "completed"
    },
    "tags": []
   },
   "outputs": [
    {
     "data": {
      "text/plain": [
       "Genre\n",
       "Documentary                             27.226027\n",
       "Drama                                   13.184932\n",
       "Comedy                                   8.390411\n",
       "Romantic comedy                          6.678082\n",
       "Thriller                                 5.650685\n",
       "                                          ...    \n",
       "Romantic comedy-drama                    0.171233\n",
       "Heist film/Thriller                      0.171233\n",
       "Musical/Western/Fantasy                  0.171233\n",
       "Horror anthology                         0.171233\n",
       "Animation/Christmas/Comedy/Adventure     0.171233\n",
       "Name: proportion, Length: 115, dtype: float64"
      ]
     },
     "execution_count": 8,
     "metadata": {},
     "output_type": "execute_result"
    }
   ],
   "source": [
    "df['Genre'].value_counts(normalize=True)*100"
   ]
  },
  {
   "cell_type": "code",
   "execution_count": 9,
   "id": "b23fff5f",
   "metadata": {
    "execution": {
     "iopub.execute_input": "2024-01-19T17:08:14.634749Z",
     "iopub.status.busy": "2024-01-19T17:08:14.634339Z",
     "iopub.status.idle": "2024-01-19T17:08:14.999046Z",
     "shell.execute_reply": "2024-01-19T17:08:14.997359Z"
    },
    "papermill": {
     "duration": 0.37863,
     "end_time": "2024-01-19T17:08:15.002458",
     "exception": false,
     "start_time": "2024-01-19T17:08:14.623828",
     "status": "completed"
    },
    "tags": []
   },
   "outputs": [
    {
     "data": {
      "text/plain": [
       "<Axes: >"
      ]
     },
     "execution_count": 9,
     "metadata": {},
     "output_type": "execute_result"
    },
    {
     "data": {
      "image/png": "[encoded data removed]",
      "text/plain": [
       "<Figure size 640x480 with 1 Axes>"
      ]
     },
     "metadata": {},
     "output_type": "display_data"
    }
   ],
   "source": [
    "df['Runtime'].hist()"
   ]
  },
  {
   "cell_type": "code",
   "execution_count": 10,
   "id": "572b4bf0",
   "metadata": {
    "execution": {
     "iopub.execute_input": "2024-01-19T17:08:15.022322Z",
     "iopub.status.busy": "2024-01-19T17:08:15.021039Z",
     "iopub.status.idle": "2024-01-19T17:08:15.039026Z",
     "shell.execute_reply": "2024-01-19T17:08:15.037855Z"
    },
    "papermill": {
     "duration": 0.030581,
     "end_time": "2024-01-19T17:08:15.041537",
     "exception": false,
     "start_time": "2024-01-19T17:08:15.010956",
     "status": "completed"
    },
    "tags": []
   },
   "outputs": [
    {
     "data": {
      "text/plain": [
       "22.0"
      ]
     },
     "execution_count": 10,
     "metadata": {},
     "output_type": "execute_result"
    }
   ],
   "source": [
    "df['Runtime'].describe()['75%'] - df['Runtime'].describe()['25%'] "
   ]
  },
  {
   "cell_type": "code",
   "execution_count": 11,
   "id": "cbc976b0",
   "metadata": {
    "execution": {
     "iopub.execute_input": "2024-01-19T17:08:15.060348Z",
     "iopub.status.busy": "2024-01-19T17:08:15.059843Z",
     "iopub.status.idle": "2024-01-19T17:08:15.072777Z",
     "shell.execute_reply": "2024-01-19T17:08:15.071221Z"
    },
    "papermill": {
     "duration": 0.025654,
     "end_time": "2024-01-19T17:08:15.075573",
     "exception": false,
     "start_time": "2024-01-19T17:08:15.049919",
     "status": "completed"
    },
    "tags": []
   },
   "outputs": [
    {
     "data": {
      "text/plain": [
       "97.0"
      ]
     },
     "execution_count": 11,
     "metadata": {},
     "output_type": "execute_result"
    }
   ],
   "source": [
    "df['Runtime'].describe()['50%']"
   ]
  },
  {
   "cell_type": "code",
   "execution_count": 12,
   "id": "02641839",
   "metadata": {
    "execution": {
     "iopub.execute_input": "2024-01-19T17:08:15.094370Z",
     "iopub.status.busy": "2024-01-19T17:08:15.093966Z",
     "iopub.status.idle": "2024-01-19T17:08:15.110709Z",
     "shell.execute_reply": "2024-01-19T17:08:15.109232Z"
    },
    "papermill": {
     "duration": 0.029467,
     "end_time": "2024-01-19T17:08:15.113509",
     "exception": false,
     "start_time": "2024-01-19T17:08:15.084042",
     "status": "completed"
    },
    "tags": []
   },
   "outputs": [
    {
     "data": {
      "text/html": [
       "<div>\n",
       "<style scoped>\n",
       "    .dataframe tbody tr th:only-of-type {\n",
       "        vertical-align: middle;\n",
       "    }\n",
       "\n",
       "    .dataframe tbody tr th {\n",
       "        vertical-align: top;\n",
       "    }\n",
       "\n",
       "    .dataframe thead th {\n",
       "        text-align: right;\n",
       "    }\n",
       "</style>\n",
       "<table border=\"1\" class=\"dataframe\">\n",
       "  <thead>\n",
       "    <tr style=\"text-align: right;\">\n",
       "      <th></th>\n",
       "      <th>Title</th>\n",
       "      <th>Genre</th>\n",
       "      <th>Premiere</th>\n",
       "      <th>Runtime</th>\n",
       "      <th>IMDB Score</th>\n",
       "      <th>Language</th>\n",
       "    </tr>\n",
       "  </thead>\n",
       "  <tbody>\n",
       "    <tr>\n",
       "      <th>561</th>\n",
       "      <td>The Irishman</td>\n",
       "      <td>Crime drama</td>\n",
       "      <td>November 27, 2019</td>\n",
       "      <td>209</td>\n",
       "      <td>7.8</td>\n",
       "      <td>English</td>\n",
       "    </tr>\n",
       "  </tbody>\n",
       "</table>\n",
       "</div>"
      ],
      "text/plain": [
       "            Title        Genre           Premiere  Runtime  IMDB Score  \\\n",
       "561  The Irishman  Crime drama  November 27, 2019      209         7.8   \n",
       "\n",
       "    Language  \n",
       "561  English  "
      ]
     },
     "execution_count": 12,
     "metadata": {},
     "output_type": "execute_result"
    }
   ],
   "source": [
    "df[df['Runtime']==df['Runtime'].max()]"
   ]
  },
  {
   "cell_type": "code",
   "execution_count": 13,
   "id": "d9de1eb0",
   "metadata": {
    "execution": {
     "iopub.execute_input": "2024-01-19T17:08:15.133081Z",
     "iopub.status.busy": "2024-01-19T17:08:15.132630Z",
     "iopub.status.idle": "2024-01-19T17:08:15.162624Z",
     "shell.execute_reply": "2024-01-19T17:08:15.161262Z"
    },
    "papermill": {
     "duration": 0.043153,
     "end_time": "2024-01-19T17:08:15.165213",
     "exception": false,
     "start_time": "2024-01-19T17:08:15.122060",
     "status": "completed"
    },
    "tags": []
   },
   "outputs": [
    {
     "data": {
      "text/html": [
       "<div>\n",
       "<style scoped>\n",
       "    .dataframe tbody tr th:only-of-type {\n",
       "        vertical-align: middle;\n",
       "    }\n",
       "\n",
       "    .dataframe tbody tr th {\n",
       "        vertical-align: top;\n",
       "    }\n",
       "\n",
       "    .dataframe thead th {\n",
       "        text-align: right;\n",
       "    }\n",
       "</style>\n",
       "<table border=\"1\" class=\"dataframe\">\n",
       "  <thead>\n",
       "    <tr style=\"text-align: right;\">\n",
       "      <th></th>\n",
       "      <th>Genre</th>\n",
       "      <th>mean</th>\n",
       "      <th>std dev</th>\n",
       "    </tr>\n",
       "  </thead>\n",
       "  <tbody>\n",
       "    <tr>\n",
       "      <th>0</th>\n",
       "      <td>Action</td>\n",
       "      <td>5.414286</td>\n",
       "      <td>1.112697</td>\n",
       "    </tr>\n",
       "    <tr>\n",
       "      <th>1</th>\n",
       "      <td>Action comedy</td>\n",
       "      <td>5.420000</td>\n",
       "      <td>0.791833</td>\n",
       "    </tr>\n",
       "    <tr>\n",
       "      <th>2</th>\n",
       "      <td>Action thriller</td>\n",
       "      <td>6.400000</td>\n",
       "      <td>NaN</td>\n",
       "    </tr>\n",
       "    <tr>\n",
       "      <th>3</th>\n",
       "      <td>Action-adventure</td>\n",
       "      <td>7.300000</td>\n",
       "      <td>NaN</td>\n",
       "    </tr>\n",
       "    <tr>\n",
       "      <th>4</th>\n",
       "      <td>Action-thriller</td>\n",
       "      <td>6.133333</td>\n",
       "      <td>1.026320</td>\n",
       "    </tr>\n",
       "    <tr>\n",
       "      <th>...</th>\n",
       "      <td>...</td>\n",
       "      <td>...</td>\n",
       "      <td>...</td>\n",
       "    </tr>\n",
       "    <tr>\n",
       "      <th>110</th>\n",
       "      <td>War</td>\n",
       "      <td>6.750000</td>\n",
       "      <td>0.636396</td>\n",
       "    </tr>\n",
       "    <tr>\n",
       "      <th>111</th>\n",
       "      <td>War drama</td>\n",
       "      <td>7.100000</td>\n",
       "      <td>0.848528</td>\n",
       "    </tr>\n",
       "    <tr>\n",
       "      <th>112</th>\n",
       "      <td>War-Comedy</td>\n",
       "      <td>6.000000</td>\n",
       "      <td>NaN</td>\n",
       "    </tr>\n",
       "    <tr>\n",
       "      <th>113</th>\n",
       "      <td>Western</td>\n",
       "      <td>6.066667</td>\n",
       "      <td>1.250333</td>\n",
       "    </tr>\n",
       "    <tr>\n",
       "      <th>114</th>\n",
       "      <td>Zombie/Heist</td>\n",
       "      <td>5.900000</td>\n",
       "      <td>NaN</td>\n",
       "    </tr>\n",
       "  </tbody>\n",
       "</table>\n",
       "<p>115 rows × 3 columns</p>\n",
       "</div>"
      ],
      "text/plain": [
       "                Genre      mean   std dev\n",
       "0              Action  5.414286  1.112697\n",
       "1       Action comedy  5.420000  0.791833\n",
       "2     Action thriller  6.400000       NaN\n",
       "3    Action-adventure  7.300000       NaN\n",
       "4     Action-thriller  6.133333  1.026320\n",
       "..                ...       ...       ...\n",
       "110               War  6.750000  0.636396\n",
       "111         War drama  7.100000  0.848528\n",
       "112        War-Comedy  6.000000       NaN\n",
       "113           Western  6.066667  1.250333\n",
       "114      Zombie/Heist  5.900000       NaN\n",
       "\n",
       "[115 rows x 3 columns]"
      ]
     },
     "execution_count": 13,
     "metadata": {},
     "output_type": "execute_result"
    }
   ],
   "source": [
    "df.groupby(['Genre'],as_index=False)['IMDB Score'].agg({'mean':np.mean,'std dev':np.std})"
   ]
  },
  {
   "cell_type": "code",
   "execution_count": 14,
   "id": "af5f87dd",
   "metadata": {
    "execution": {
     "iopub.execute_input": "2024-01-19T17:08:15.185570Z",
     "iopub.status.busy": "2024-01-19T17:08:15.185065Z",
     "iopub.status.idle": "2024-01-19T17:08:15.209244Z",
     "shell.execute_reply": "2024-01-19T17:08:15.207656Z"
    },
    "papermill": {
     "duration": 0.038044,
     "end_time": "2024-01-19T17:08:15.212259",
     "exception": false,
     "start_time": "2024-01-19T17:08:15.174215",
     "status": "completed"
    },
    "tags": []
   },
   "outputs": [
    {
     "data": {
      "text/html": [
       "<div>\n",
       "<style scoped>\n",
       "    .dataframe tbody tr th:only-of-type {\n",
       "        vertical-align: middle;\n",
       "    }\n",
       "\n",
       "    .dataframe tbody tr th {\n",
       "        vertical-align: top;\n",
       "    }\n",
       "\n",
       "    .dataframe thead th {\n",
       "        text-align: right;\n",
       "    }\n",
       "</style>\n",
       "<table border=\"1\" class=\"dataframe\">\n",
       "  <thead>\n",
       "    <tr style=\"text-align: right;\">\n",
       "      <th></th>\n",
       "      <th>Language</th>\n",
       "      <th>mean</th>\n",
       "      <th>std dev</th>\n",
       "    </tr>\n",
       "  </thead>\n",
       "  <tbody>\n",
       "    <tr>\n",
       "      <th>0</th>\n",
       "      <td>Bengali</td>\n",
       "      <td>41.000000</td>\n",
       "      <td>NaN</td>\n",
       "    </tr>\n",
       "    <tr>\n",
       "      <th>1</th>\n",
       "      <td>Dutch</td>\n",
       "      <td>99.666667</td>\n",
       "      <td>5.507571</td>\n",
       "    </tr>\n",
       "    <tr>\n",
       "      <th>2</th>\n",
       "      <td>English</td>\n",
       "      <td>91.817955</td>\n",
       "      <td>28.506566</td>\n",
       "    </tr>\n",
       "    <tr>\n",
       "      <th>3</th>\n",
       "      <td>English/Akan</td>\n",
       "      <td>136.000000</td>\n",
       "      <td>NaN</td>\n",
       "    </tr>\n",
       "    <tr>\n",
       "      <th>4</th>\n",
       "      <td>English/Arabic</td>\n",
       "      <td>114.000000</td>\n",
       "      <td>NaN</td>\n",
       "    </tr>\n",
       "    <tr>\n",
       "      <th>5</th>\n",
       "      <td>English/Hindi</td>\n",
       "      <td>32.500000</td>\n",
       "      <td>9.192388</td>\n",
       "    </tr>\n",
       "    <tr>\n",
       "      <th>6</th>\n",
       "      <td>English/Japanese</td>\n",
       "      <td>89.000000</td>\n",
       "      <td>43.840620</td>\n",
       "    </tr>\n",
       "    <tr>\n",
       "      <th>7</th>\n",
       "      <td>English/Korean</td>\n",
       "      <td>121.000000</td>\n",
       "      <td>NaN</td>\n",
       "    </tr>\n",
       "    <tr>\n",
       "      <th>8</th>\n",
       "      <td>English/Mandarin</td>\n",
       "      <td>59.000000</td>\n",
       "      <td>28.284271</td>\n",
       "    </tr>\n",
       "    <tr>\n",
       "      <th>9</th>\n",
       "      <td>English/Russian</td>\n",
       "      <td>90.000000</td>\n",
       "      <td>NaN</td>\n",
       "    </tr>\n",
       "    <tr>\n",
       "      <th>10</th>\n",
       "      <td>English/Spanish</td>\n",
       "      <td>39.200000</td>\n",
       "      <td>14.446453</td>\n",
       "    </tr>\n",
       "    <tr>\n",
       "      <th>11</th>\n",
       "      <td>English/Swedish</td>\n",
       "      <td>40.000000</td>\n",
       "      <td>NaN</td>\n",
       "    </tr>\n",
       "    <tr>\n",
       "      <th>12</th>\n",
       "      <td>English/Taiwanese/Mandarin</td>\n",
       "      <td>91.000000</td>\n",
       "      <td>NaN</td>\n",
       "    </tr>\n",
       "    <tr>\n",
       "      <th>13</th>\n",
       "      <td>English/Ukranian/Russian</td>\n",
       "      <td>91.000000</td>\n",
       "      <td>NaN</td>\n",
       "    </tr>\n",
       "    <tr>\n",
       "      <th>14</th>\n",
       "      <td>Filipino</td>\n",
       "      <td>99.500000</td>\n",
       "      <td>7.778175</td>\n",
       "    </tr>\n",
       "    <tr>\n",
       "      <th>15</th>\n",
       "      <td>French</td>\n",
       "      <td>92.700000</td>\n",
       "      <td>12.498842</td>\n",
       "    </tr>\n",
       "    <tr>\n",
       "      <th>16</th>\n",
       "      <td>Georgian</td>\n",
       "      <td>23.000000</td>\n",
       "      <td>NaN</td>\n",
       "    </tr>\n",
       "    <tr>\n",
       "      <th>17</th>\n",
       "      <td>German</td>\n",
       "      <td>99.600000</td>\n",
       "      <td>9.396808</td>\n",
       "    </tr>\n",
       "    <tr>\n",
       "      <th>18</th>\n",
       "      <td>Hindi</td>\n",
       "      <td>115.787879</td>\n",
       "      <td>16.999554</td>\n",
       "    </tr>\n",
       "    <tr>\n",
       "      <th>19</th>\n",
       "      <td>Indonesian</td>\n",
       "      <td>103.777778</td>\n",
       "      <td>12.255384</td>\n",
       "    </tr>\n",
       "    <tr>\n",
       "      <th>20</th>\n",
       "      <td>Italian</td>\n",
       "      <td>98.357143</td>\n",
       "      <td>9.328263</td>\n",
       "    </tr>\n",
       "    <tr>\n",
       "      <th>21</th>\n",
       "      <td>Japanese</td>\n",
       "      <td>99.333333</td>\n",
       "      <td>48.272836</td>\n",
       "    </tr>\n",
       "    <tr>\n",
       "      <th>22</th>\n",
       "      <td>Khmer/English/French</td>\n",
       "      <td>136.000000</td>\n",
       "      <td>NaN</td>\n",
       "    </tr>\n",
       "    <tr>\n",
       "      <th>23</th>\n",
       "      <td>Korean</td>\n",
       "      <td>115.833333</td>\n",
       "      <td>22.631100</td>\n",
       "    </tr>\n",
       "    <tr>\n",
       "      <th>24</th>\n",
       "      <td>Malay</td>\n",
       "      <td>101.000000</td>\n",
       "      <td>NaN</td>\n",
       "    </tr>\n",
       "    <tr>\n",
       "      <th>25</th>\n",
       "      <td>Marathi</td>\n",
       "      <td>121.666667</td>\n",
       "      <td>8.736895</td>\n",
       "    </tr>\n",
       "    <tr>\n",
       "      <th>26</th>\n",
       "      <td>Norwegian</td>\n",
       "      <td>86.000000</td>\n",
       "      <td>NaN</td>\n",
       "    </tr>\n",
       "    <tr>\n",
       "      <th>27</th>\n",
       "      <td>Polish</td>\n",
       "      <td>98.666667</td>\n",
       "      <td>6.658328</td>\n",
       "    </tr>\n",
       "    <tr>\n",
       "      <th>28</th>\n",
       "      <td>Portuguese</td>\n",
       "      <td>91.250000</td>\n",
       "      <td>22.947073</td>\n",
       "    </tr>\n",
       "    <tr>\n",
       "      <th>29</th>\n",
       "      <td>Spanish</td>\n",
       "      <td>93.387097</td>\n",
       "      <td>24.556978</td>\n",
       "    </tr>\n",
       "    <tr>\n",
       "      <th>30</th>\n",
       "      <td>Spanish/Basque</td>\n",
       "      <td>89.000000</td>\n",
       "      <td>NaN</td>\n",
       "    </tr>\n",
       "    <tr>\n",
       "      <th>31</th>\n",
       "      <td>Spanish/Catalan</td>\n",
       "      <td>116.000000</td>\n",
       "      <td>NaN</td>\n",
       "    </tr>\n",
       "    <tr>\n",
       "      <th>32</th>\n",
       "      <td>Spanish/English</td>\n",
       "      <td>96.000000</td>\n",
       "      <td>NaN</td>\n",
       "    </tr>\n",
       "    <tr>\n",
       "      <th>33</th>\n",
       "      <td>Swedish</td>\n",
       "      <td>86.000000</td>\n",
       "      <td>NaN</td>\n",
       "    </tr>\n",
       "    <tr>\n",
       "      <th>34</th>\n",
       "      <td>Tamil</td>\n",
       "      <td>101.000000</td>\n",
       "      <td>NaN</td>\n",
       "    </tr>\n",
       "    <tr>\n",
       "      <th>35</th>\n",
       "      <td>Thai</td>\n",
       "      <td>101.000000</td>\n",
       "      <td>22.627417</td>\n",
       "    </tr>\n",
       "    <tr>\n",
       "      <th>36</th>\n",
       "      <td>Thia/English</td>\n",
       "      <td>80.000000</td>\n",
       "      <td>NaN</td>\n",
       "    </tr>\n",
       "    <tr>\n",
       "      <th>37</th>\n",
       "      <td>Turkish</td>\n",
       "      <td>101.800000</td>\n",
       "      <td>10.592450</td>\n",
       "    </tr>\n",
       "  </tbody>\n",
       "</table>\n",
       "</div>"
      ],
      "text/plain": [
       "                      Language        mean    std dev\n",
       "0                      Bengali   41.000000        NaN\n",
       "1                        Dutch   99.666667   5.507571\n",
       "2                      English   91.817955  28.506566\n",
       "3                 English/Akan  136.000000        NaN\n",
       "4               English/Arabic  114.000000        NaN\n",
       "5                English/Hindi   32.500000   9.192388\n",
       "6             English/Japanese   89.000000  43.840620\n",
       "7               English/Korean  121.000000        NaN\n",
       "8             English/Mandarin   59.000000  28.284271\n",
       "9              English/Russian   90.000000        NaN\n",
       "10             English/Spanish   39.200000  14.446453\n",
       "11             English/Swedish   40.000000        NaN\n",
       "12  English/Taiwanese/Mandarin   91.000000        NaN\n",
       "13    English/Ukranian/Russian   91.000000        NaN\n",
       "14                    Filipino   99.500000   7.778175\n",
       "15                      French   92.700000  12.498842\n",
       "16                    Georgian   23.000000        NaN\n",
       "17                      German   99.600000   9.396808\n",
       "18                       Hindi  115.787879  16.999554\n",
       "19                  Indonesian  103.777778  12.255384\n",
       "20                     Italian   98.357143   9.328263\n",
       "21                    Japanese   99.333333  48.272836\n",
       "22        Khmer/English/French  136.000000        NaN\n",
       "23                      Korean  115.833333  22.631100\n",
       "24                       Malay  101.000000        NaN\n",
       "25                     Marathi  121.666667   8.736895\n",
       "26                   Norwegian   86.000000        NaN\n",
       "27                      Polish   98.666667   6.658328\n",
       "28                  Portuguese   91.250000  22.947073\n",
       "29                     Spanish   93.387097  24.556978\n",
       "30              Spanish/Basque   89.000000        NaN\n",
       "31             Spanish/Catalan  116.000000        NaN\n",
       "32             Spanish/English   96.000000        NaN\n",
       "33                     Swedish   86.000000        NaN\n",
       "34                       Tamil  101.000000        NaN\n",
       "35                        Thai  101.000000  22.627417\n",
       "36                Thia/English   80.000000        NaN\n",
       "37                     Turkish  101.800000  10.592450"
      ]
     },
     "execution_count": 14,
     "metadata": {},
     "output_type": "execute_result"
    }
   ],
   "source": [
    "df.groupby('Language',as_index=False)['Runtime'].agg({'mean':np.mean,'std dev':np.std})"
   ]
  },
  {
   "cell_type": "code",
   "execution_count": 15,
   "id": "090c92b9",
   "metadata": {
    "execution": {
     "iopub.execute_input": "2024-01-19T17:08:15.233582Z",
     "iopub.status.busy": "2024-01-19T17:08:15.233151Z",
     "iopub.status.idle": "2024-01-19T17:08:15.525588Z",
     "shell.execute_reply": "2024-01-19T17:08:15.524256Z"
    },
    "papermill": {
     "duration": 0.306933,
     "end_time": "2024-01-19T17:08:15.529159",
     "exception": false,
     "start_time": "2024-01-19T17:08:15.222226",
     "status": "completed"
    },
    "tags": []
   },
   "outputs": [
    {
     "data": {
      "image/png": "[encoded data removed]",
      "text/plain": [
       "<Figure size 640x480 with 1 Axes>"
      ]
     },
     "metadata": {},
     "output_type": "display_data"
    }
   ],
   "source": [
    "import matplotlib.pyplot as plt\n",
    "plt.scatter(df['Runtime'],df['IMDB Score'])\n",
    "plt.show()"
   ]
  },
  {
   "cell_type": "code",
   "execution_count": 16,
   "id": "582b8011",
   "metadata": {
    "execution": {
     "iopub.execute_input": "2024-01-19T17:08:15.552741Z",
     "iopub.status.busy": "2024-01-19T17:08:15.552319Z",
     "iopub.status.idle": "2024-01-19T17:08:15.571444Z",
     "shell.execute_reply": "2024-01-19T17:08:15.569727Z"
    },
    "papermill": {
     "duration": 0.034772,
     "end_time": "2024-01-19T17:08:15.574738",
     "exception": false,
     "start_time": "2024-01-19T17:08:15.539966",
     "status": "completed"
    },
    "tags": []
   },
   "outputs": [
    {
     "data": {
      "text/html": [
       "<div>\n",
       "<style scoped>\n",
       "    .dataframe tbody tr th:only-of-type {\n",
       "        vertical-align: middle;\n",
       "    }\n",
       "\n",
       "    .dataframe tbody tr th {\n",
       "        vertical-align: top;\n",
       "    }\n",
       "\n",
       "    .dataframe thead th {\n",
       "        text-align: right;\n",
       "    }\n",
       "</style>\n",
       "<table border=\"1\" class=\"dataframe\">\n",
       "  <thead>\n",
       "    <tr style=\"text-align: right;\">\n",
       "      <th></th>\n",
       "      <th>Runtime</th>\n",
       "      <th>IMDB Score</th>\n",
       "    </tr>\n",
       "  </thead>\n",
       "  <tbody>\n",
       "    <tr>\n",
       "      <th>Runtime</th>\n",
       "      <td>1.000000</td>\n",
       "      <td>-0.040896</td>\n",
       "    </tr>\n",
       "    <tr>\n",
       "      <th>IMDB Score</th>\n",
       "      <td>-0.040896</td>\n",
       "      <td>1.000000</td>\n",
       "    </tr>\n",
       "  </tbody>\n",
       "</table>\n",
       "</div>"
      ],
      "text/plain": [
       "             Runtime  IMDB Score\n",
       "Runtime     1.000000   -0.040896\n",
       "IMDB Score -0.040896    1.000000"
      ]
     },
     "execution_count": 16,
     "metadata": {},
     "output_type": "execute_result"
    }
   ],
   "source": [
    "df[['Runtime','IMDB Score']].corr()"
   ]
  },
  {
   "cell_type": "code",
   "execution_count": null,
   "id": "258b2c41",
   "metadata": {
    "papermill": {
     "duration": 0.0107,
     "end_time": "2024-01-19T17:08:15.596430",
     "exception": false,
     "start_time": "2024-01-19T17:08:15.585730",
     "status": "completed"
    },
    "tags": []
   },
   "outputs": [],
   "source": []
  }
 ],
 "metadata": {
  "kaggle": {
   "accelerator": "none",
   "dataSources": [
    {
     "datasetId": 1387482,
     "sourceId": 2301025,
     "sourceType": "datasetVersion"
    }
   ],
   "dockerImageVersionId": 30635,
   "isGpuEnabled": false,
   "isInternetEnabled": false,
   "language": "python",
   "sourceType": "notebook"
  },
  "kernelspec": {
   "display_name": "Python 3",
   "language": "python",
   "name": "python3"
  },
  "language_info": {
   "codemirror_mode": {
    "name": "ipython",
    "version": 3
   },
   "file_extension": ".py",
   "mimetype": "text/x-python",
   "name": "python",
   "nbconvert_exporter": "python",
   "pygments_lexer": "ipython3",
   "version": "3.10.12"
  },
  "papermill": {
   "default_parameters": {},
   "duration": 6.406956,
   "end_time": "2024-01-19T17:08:16.332351",
   "environment_variables": {},
   "exception": null,
   "input_path": "__notebook__.ipynb",
   "output_path": "__notebook__.ipynb",
   "parameters": {},
   "start_time": "2024-01-19T17:08:09.925395",
   "version": "2.4.0"
  }
 },
 "nbformat": 4,
 "nbformat_minor": 5
}
